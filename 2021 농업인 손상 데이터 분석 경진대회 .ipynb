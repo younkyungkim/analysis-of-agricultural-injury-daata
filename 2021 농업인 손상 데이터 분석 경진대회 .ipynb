{
 "cells": [
  {
   "cell_type": "code",
   "execution_count": 1,
   "metadata": {},
   "outputs": [
    {
     "name": "stdout",
     "output_type": "stream",
     "text": [
      "python 3.8.8 (default, Apr 13 2021, 15:08:03) [MSC v.1916 64 bit (AMD64)]\n",
      "numpy 1.20.1\n",
      "pandas 1.2.4\n",
      "matplotlib 3.3.4\n"
     ]
    }
   ],
   "source": [
    "import sys\n",
    "print('python', sys.version)\n",
    "\n",
    "import numpy as np\n",
    "print('numpy', np.__version__)\n",
    "\n",
    "import pandas as pd\n",
    "print('pandas', pd.__version__)\n",
    "\n",
    "import matplotlib as mpl\n",
    "print('matplotlib', mpl.__version__)\n",
    "\n",
    "import matplotlib.pyplot as plt\n",
    "\n",
    "# # 결과 확인을 용이하게 하기 위한 코드\n",
    "from IPython.core.interactiveshell import InteractiveShell\n",
    "InteractiveShell.ast_node_interactivity = 'all'\n",
    "\n",
    "plt.rcParams['font.family'] = 'AppleGothic'\n",
    "\n",
    "## minus sign tick 오류 방지를 위해 추가\n",
    "import matplotlib as mpl\n",
    "mpl.rcParams['axes.unicode_minus']=False"
   ]
  },
  {
   "cell_type": "code",
   "execution_count": 2,
   "metadata": {},
   "outputs": [
    {
     "data": {
      "text/html": [
       "<div>\n",
       "<style scoped>\n",
       "    .dataframe tbody tr th:only-of-type {\n",
       "        vertical-align: middle;\n",
       "    }\n",
       "\n",
       "    .dataframe tbody tr th {\n",
       "        vertical-align: top;\n",
       "    }\n",
       "\n",
       "    .dataframe thead th {\n",
       "        text-align: right;\n",
       "    }\n",
       "</style>\n",
       "<table border=\"1\" class=\"dataframe\">\n",
       "  <thead>\n",
       "    <tr style=\"text-align: right;\">\n",
       "      <th></th>\n",
       "      <th>id</th>\n",
       "      <th>시도명</th>\n",
       "      <th>시군구명</th>\n",
       "      <th>읍면동명</th>\n",
       "      <th>행정리명</th>\n",
       "      <th>조사가구번호</th>\n",
       "      <th>q1_1</th>\n",
       "      <th>q1_2</th>\n",
       "      <th>q2_1_1</th>\n",
       "      <th>q2_1_2</th>\n",
       "      <th>...</th>\n",
       "      <th>aq8_1_2etc</th>\n",
       "      <th>aq9_1</th>\n",
       "      <th>aq9_1_1</th>\n",
       "      <th>aq9_1_1etc</th>\n",
       "      <th>aq10_1</th>\n",
       "      <th>aq11_1</th>\n",
       "      <th>re1</th>\n",
       "      <th>q1_1re</th>\n",
       "      <th>age</th>\n",
       "      <th>age2</th>\n",
       "    </tr>\n",
       "  </thead>\n",
       "  <tbody>\n",
       "    <tr>\n",
       "      <th>0</th>\n",
       "      <td>1</td>\n",
       "      <td>인천광역시</td>\n",
       "      <td>강화군</td>\n",
       "      <td>선원면</td>\n",
       "      <td>냉정리</td>\n",
       "      <td>1</td>\n",
       "      <td>고추</td>\n",
       "      <td>2-3</td>\n",
       "      <td>2</td>\n",
       "      <td>NaN</td>\n",
       "      <td>...</td>\n",
       "      <td>NaN</td>\n",
       "      <td>NaN</td>\n",
       "      <td>NaN</td>\n",
       "      <td>NaN</td>\n",
       "      <td>NaN</td>\n",
       "      <td>NaN</td>\n",
       "      <td>경기</td>\n",
       "      <td>2</td>\n",
       "      <td>a3</td>\n",
       "      <td>경기a3</td>\n",
       "    </tr>\n",
       "    <tr>\n",
       "      <th>1</th>\n",
       "      <td>2</td>\n",
       "      <td>인천광역시</td>\n",
       "      <td>강화군</td>\n",
       "      <td>선원면</td>\n",
       "      <td>냉정리</td>\n",
       "      <td>2</td>\n",
       "      <td>마늘</td>\n",
       "      <td>2-13</td>\n",
       "      <td>2</td>\n",
       "      <td>NaN</td>\n",
       "      <td>...</td>\n",
       "      <td>NaN</td>\n",
       "      <td>NaN</td>\n",
       "      <td>NaN</td>\n",
       "      <td>NaN</td>\n",
       "      <td>NaN</td>\n",
       "      <td>NaN</td>\n",
       "      <td>경기</td>\n",
       "      <td>2</td>\n",
       "      <td>a4</td>\n",
       "      <td>경기a4</td>\n",
       "    </tr>\n",
       "    <tr>\n",
       "      <th>2</th>\n",
       "      <td>3</td>\n",
       "      <td>인천광역시</td>\n",
       "      <td>강화군</td>\n",
       "      <td>선원면</td>\n",
       "      <td>냉정리</td>\n",
       "      <td>3</td>\n",
       "      <td>소</td>\n",
       "      <td>5-6</td>\n",
       "      <td>2</td>\n",
       "      <td>NaN</td>\n",
       "      <td>...</td>\n",
       "      <td>NaN</td>\n",
       "      <td>NaN</td>\n",
       "      <td>NaN</td>\n",
       "      <td>NaN</td>\n",
       "      <td>NaN</td>\n",
       "      <td>NaN</td>\n",
       "      <td>경기</td>\n",
       "      <td>5</td>\n",
       "      <td>a3</td>\n",
       "      <td>경기a3</td>\n",
       "    </tr>\n",
       "    <tr>\n",
       "      <th>3</th>\n",
       "      <td>4</td>\n",
       "      <td>인천광역시</td>\n",
       "      <td>강화군</td>\n",
       "      <td>선원면</td>\n",
       "      <td>냉정리</td>\n",
       "      <td>4</td>\n",
       "      <td>고구마</td>\n",
       "      <td>2-2</td>\n",
       "      <td>2</td>\n",
       "      <td>NaN</td>\n",
       "      <td>...</td>\n",
       "      <td>NaN</td>\n",
       "      <td>NaN</td>\n",
       "      <td>NaN</td>\n",
       "      <td>NaN</td>\n",
       "      <td>NaN</td>\n",
       "      <td>NaN</td>\n",
       "      <td>경기</td>\n",
       "      <td>2</td>\n",
       "      <td>a3</td>\n",
       "      <td>경기a3</td>\n",
       "    </tr>\n",
       "    <tr>\n",
       "      <th>4</th>\n",
       "      <td>5</td>\n",
       "      <td>인천광역시</td>\n",
       "      <td>강화군</td>\n",
       "      <td>선원면</td>\n",
       "      <td>냉정리</td>\n",
       "      <td>5</td>\n",
       "      <td>고추</td>\n",
       "      <td>2-3</td>\n",
       "      <td>2</td>\n",
       "      <td>NaN</td>\n",
       "      <td>...</td>\n",
       "      <td>NaN</td>\n",
       "      <td>NaN</td>\n",
       "      <td>NaN</td>\n",
       "      <td>NaN</td>\n",
       "      <td>NaN</td>\n",
       "      <td>NaN</td>\n",
       "      <td>경기</td>\n",
       "      <td>2</td>\n",
       "      <td>a4</td>\n",
       "      <td>경기a4</td>\n",
       "    </tr>\n",
       "    <tr>\n",
       "      <th>...</th>\n",
       "      <td>...</td>\n",
       "      <td>...</td>\n",
       "      <td>...</td>\n",
       "      <td>...</td>\n",
       "      <td>...</td>\n",
       "      <td>...</td>\n",
       "      <td>...</td>\n",
       "      <td>...</td>\n",
       "      <td>...</td>\n",
       "      <td>...</td>\n",
       "      <td>...</td>\n",
       "      <td>...</td>\n",
       "      <td>...</td>\n",
       "      <td>...</td>\n",
       "      <td>...</td>\n",
       "      <td>...</td>\n",
       "      <td>...</td>\n",
       "      <td>...</td>\n",
       "      <td>...</td>\n",
       "      <td>...</td>\n",
       "      <td>...</td>\n",
       "    </tr>\n",
       "    <tr>\n",
       "      <th>17765</th>\n",
       "      <td>17766</td>\n",
       "      <td>제주특별자치도</td>\n",
       "      <td>서귀포시</td>\n",
       "      <td>예래동</td>\n",
       "      <td>예래동03</td>\n",
       "      <td>7</td>\n",
       "      <td>밀감</td>\n",
       "      <td>2-36</td>\n",
       "      <td>2</td>\n",
       "      <td>NaN</td>\n",
       "      <td>...</td>\n",
       "      <td>NaN</td>\n",
       "      <td>NaN</td>\n",
       "      <td>NaN</td>\n",
       "      <td>NaN</td>\n",
       "      <td>NaN</td>\n",
       "      <td>NaN</td>\n",
       "      <td>제주</td>\n",
       "      <td>6</td>\n",
       "      <td>a4</td>\n",
       "      <td>제주a4</td>\n",
       "    </tr>\n",
       "    <tr>\n",
       "      <th>17766</th>\n",
       "      <td>17767</td>\n",
       "      <td>제주특별자치도</td>\n",
       "      <td>서귀포시</td>\n",
       "      <td>예래동</td>\n",
       "      <td>예래동03</td>\n",
       "      <td>8</td>\n",
       "      <td>밀감</td>\n",
       "      <td>2-36</td>\n",
       "      <td>2</td>\n",
       "      <td>NaN</td>\n",
       "      <td>...</td>\n",
       "      <td>NaN</td>\n",
       "      <td>NaN</td>\n",
       "      <td>NaN</td>\n",
       "      <td>NaN</td>\n",
       "      <td>NaN</td>\n",
       "      <td>NaN</td>\n",
       "      <td>제주</td>\n",
       "      <td>6</td>\n",
       "      <td>a3</td>\n",
       "      <td>제주a3</td>\n",
       "    </tr>\n",
       "    <tr>\n",
       "      <th>17767</th>\n",
       "      <td>17768</td>\n",
       "      <td>제주특별자치도</td>\n",
       "      <td>서귀포시</td>\n",
       "      <td>예래동</td>\n",
       "      <td>예래동03</td>\n",
       "      <td>9</td>\n",
       "      <td>밀감</td>\n",
       "      <td>2-36</td>\n",
       "      <td>2</td>\n",
       "      <td>NaN</td>\n",
       "      <td>...</td>\n",
       "      <td>NaN</td>\n",
       "      <td>NaN</td>\n",
       "      <td>NaN</td>\n",
       "      <td>NaN</td>\n",
       "      <td>NaN</td>\n",
       "      <td>NaN</td>\n",
       "      <td>제주</td>\n",
       "      <td>6</td>\n",
       "      <td>a2</td>\n",
       "      <td>제주a2</td>\n",
       "    </tr>\n",
       "    <tr>\n",
       "      <th>17768</th>\n",
       "      <td>17769</td>\n",
       "      <td>제주특별자치도</td>\n",
       "      <td>서귀포시</td>\n",
       "      <td>예래동</td>\n",
       "      <td>예래동03</td>\n",
       "      <td>9</td>\n",
       "      <td>밀감</td>\n",
       "      <td>2-36</td>\n",
       "      <td>2</td>\n",
       "      <td>NaN</td>\n",
       "      <td>...</td>\n",
       "      <td>NaN</td>\n",
       "      <td>NaN</td>\n",
       "      <td>NaN</td>\n",
       "      <td>NaN</td>\n",
       "      <td>NaN</td>\n",
       "      <td>NaN</td>\n",
       "      <td>제주</td>\n",
       "      <td>6</td>\n",
       "      <td>a2</td>\n",
       "      <td>제주a2</td>\n",
       "    </tr>\n",
       "    <tr>\n",
       "      <th>17769</th>\n",
       "      <td>17770</td>\n",
       "      <td>제주특별자치도</td>\n",
       "      <td>서귀포시</td>\n",
       "      <td>예래동</td>\n",
       "      <td>예래동03</td>\n",
       "      <td>10</td>\n",
       "      <td>밀감</td>\n",
       "      <td>2-36</td>\n",
       "      <td>2</td>\n",
       "      <td>NaN</td>\n",
       "      <td>...</td>\n",
       "      <td>NaN</td>\n",
       "      <td>NaN</td>\n",
       "      <td>NaN</td>\n",
       "      <td>NaN</td>\n",
       "      <td>NaN</td>\n",
       "      <td>NaN</td>\n",
       "      <td>제주</td>\n",
       "      <td>6</td>\n",
       "      <td>a4</td>\n",
       "      <td>제주a4</td>\n",
       "    </tr>\n",
       "  </tbody>\n",
       "</table>\n",
       "<p>17770 rows × 103 columns</p>\n",
       "</div>"
      ],
      "text/plain": [
       "          id      시도명  시군구명 읍면동명   행정리명  조사가구번호 q1_1  q1_2  q2_1_1  q2_1_2  \\\n",
       "0          1    인천광역시   강화군  선원면    냉정리       1   고추   2-3       2     NaN   \n",
       "1          2    인천광역시   강화군  선원면    냉정리       2   마늘  2-13       2     NaN   \n",
       "2          3    인천광역시   강화군  선원면    냉정리       3    소   5-6       2     NaN   \n",
       "3          4    인천광역시   강화군  선원면    냉정리       4  고구마   2-2       2     NaN   \n",
       "4          5    인천광역시   강화군  선원면    냉정리       5   고추   2-3       2     NaN   \n",
       "...      ...      ...   ...  ...    ...     ...  ...   ...     ...     ...   \n",
       "17765  17766  제주특별자치도  서귀포시  예래동  예래동03       7   밀감  2-36       2     NaN   \n",
       "17766  17767  제주특별자치도  서귀포시  예래동  예래동03       8   밀감  2-36       2     NaN   \n",
       "17767  17768  제주특별자치도  서귀포시  예래동  예래동03       9   밀감  2-36       2     NaN   \n",
       "17768  17769  제주특별자치도  서귀포시  예래동  예래동03       9   밀감  2-36       2     NaN   \n",
       "17769  17770  제주특별자치도  서귀포시  예래동  예래동03      10   밀감  2-36       2     NaN   \n",
       "\n",
       "       ...  aq8_1_2etc  aq9_1  aq9_1_1  aq9_1_1etc  aq10_1  aq11_1  re1  \\\n",
       "0      ...         NaN    NaN      NaN         NaN     NaN     NaN   경기   \n",
       "1      ...         NaN    NaN      NaN         NaN     NaN     NaN   경기   \n",
       "2      ...         NaN    NaN      NaN         NaN     NaN     NaN   경기   \n",
       "3      ...         NaN    NaN      NaN         NaN     NaN     NaN   경기   \n",
       "4      ...         NaN    NaN      NaN         NaN     NaN     NaN   경기   \n",
       "...    ...         ...    ...      ...         ...     ...     ...  ...   \n",
       "17765  ...         NaN    NaN      NaN         NaN     NaN     NaN   제주   \n",
       "17766  ...         NaN    NaN      NaN         NaN     NaN     NaN   제주   \n",
       "17767  ...         NaN    NaN      NaN         NaN     NaN     NaN   제주   \n",
       "17768  ...         NaN    NaN      NaN         NaN     NaN     NaN   제주   \n",
       "17769  ...         NaN    NaN      NaN         NaN     NaN     NaN   제주   \n",
       "\n",
       "       q1_1re  age  age2  \n",
       "0           2   a3  경기a3  \n",
       "1           2   a4  경기a4  \n",
       "2           5   a3  경기a3  \n",
       "3           2   a3  경기a3  \n",
       "4           2   a4  경기a4  \n",
       "...       ...  ...   ...  \n",
       "17765       6   a4  제주a4  \n",
       "17766       6   a3  제주a3  \n",
       "17767       6   a2  제주a2  \n",
       "17768       6   a2  제주a2  \n",
       "17769       6   a4  제주a4  \n",
       "\n",
       "[17770 rows x 103 columns]"
      ]
     },
     "execution_count": 2,
     "metadata": {},
     "output_type": "execute_result"
    }
   ],
   "source": [
    "data=pd.read_excel(r'C:\\Users\\LG\\Documents\\21_2\\경진대회\\data.xlsx')\n",
    "data"
   ]
  },
  {
   "cell_type": "code",
   "execution_count": 3,
   "metadata": {},
   "outputs": [],
   "source": [
    "data=pd.DataFrame(data)"
   ]
  },
  {
   "cell_type": "code",
   "execution_count": 4,
   "metadata": {},
   "outputs": [],
   "source": [
    "conditionA =data['q2_1_1'] == 1\n",
    "A=len(data[conditionA])\n",
    "conditionB =data['q2_2_1'] == 1\n",
    "B=len(data[conditionB])\n",
    "conditionC =data['q2_3_1'] == 1\n",
    "C=len(data[conditionC])\n",
    "conditionD =data['q2_4_1'] == 1\n",
    "D=len(data[conditionD])\n",
    "conditionE =data['q2_5_1'] == 1\n",
    "E=len(data[conditionE])\n",
    "conditionF =data['q2_6_1'] == 1\n",
    "F=len(data[conditionF])"
   ]
  },
  {
   "cell_type": "code",
   "execution_count": 5,
   "metadata": {},
   "outputs": [],
   "source": [
    "Sum=A+B+C+D+E+F\n",
    "A1=(A/Sum)*100\n",
    "B1=(B/Sum)*100\n",
    "C1=(C/Sum)*100\n",
    "D1=(D/Sum)*100\n",
    "E1=(E/Sum)*100\n",
    "F1=(F/Sum)*100"
   ]
  },
  {
   "cell_type": "code",
   "execution_count": 8,
   "metadata": {},
   "outputs": [
    {
     "data": {
      "text/plain": [
       "([<matplotlib.patches.Wedge at 0x163cbbbcac0>,\n",
       "  <matplotlib.patches.Wedge at 0x163cbb8a310>,\n",
       "  <matplotlib.patches.Wedge at 0x163cbb8abe0>,\n",
       "  <matplotlib.patches.Wedge at 0x163cbba44f0>,\n",
       "  <matplotlib.patches.Wedge at 0x163cbba4dc0>,\n",
       "  <matplotlib.patches.Wedge at 0x163cbbac700>],\n",
       " [Text(0.4829481691085196, -0.9883122310053281, '논농사'),\n",
       "  Text(-0.9060969432205455, 0.6236892892189058, '밭농사'),\n",
       "  Text(0.762996367457725, 0.7923613716268079, '과수원'),\n",
       "  Text(1.0171981042550016, 0.4186980017865277, '시설'),\n",
       "  Text(1.0891723070953763, 0.1539600125244719, '축산'),\n",
       "  Text(1.0990844349763522, 0.0448709794044304, '기타')],\n",
       " [Text(0.2634262740591925, -0.5390793987301788, '36.6%'),\n",
       "  Text(-0.49423469630211564, 0.3401941577557668, '47.0%'),\n",
       "  Text(0.4161798367951227, 0.43219711179644066, '8.2%'),\n",
       "  Text(0.5548353295936371, 0.2283807282471969, '5.0%'),\n",
       "  Text(0.594093985688387, 0.08397818864971193, '3.0%'),\n",
       "  Text(0.5995006008961921, 0.02447507967514385, '0.2%')])"
      ]
     },
     "execution_count": 8,
     "metadata": {},
     "output_type": "execute_result"
    },
    {
     "data": {
      "text/plain": [
       "Text(0.5, 1.0, '농업 현황')"
      ]
     },
     "execution_count": 8,
     "metadata": {},
     "output_type": "execute_result"
    },
    {
     "data": {
      "image/png": "[encoded data removed]",
      "text/plain": [
       "<Figure size 432x288 with 1 Axes>"
      ]
     },
     "metadata": {},
     "output_type": "display_data"
    }
   ],
   "source": [
    "#from matplotlib import pyplot as plt\n",
    "ratio=[A1,B1,C1,D1,E1,F1]\n",
    "labels = ['논농사','밭농사','과수원','시설','축산','기타']\n",
    "colors=['tomato','c','lightgreen','#d395d0','#ffc000','k']\n",
    "wedgeprops={'width': 0.7, 'edgecolor': 'w', 'linewidth': 5}\n",
    "\n",
    "plt.pie(ratio, labels=labels, autopct='%.1f%%', startangle=2, counterclock=False,\n",
    "        colors=colors, wedgeprops=wedgeprops,shadow=True)\n",
    "plt.title('농업 현황')\n",
    "#plt.rcParams[\"figure.figsize\"] = (50, 50)\n",
    "plt.show()"
   ]
  },
  {
   "cell_type": "code",
   "execution_count": 6,
   "metadata": {},
   "outputs": [],
   "source": [
    "conditionA_d =(data['q2_1_1'] == 1)&(data['q32']==2)\n",
    "A_dam=len(data[conditionA_d])\n",
    "conditionB_d =(data['q2_2_1'] == 1)&(data['q32']==2)\n",
    "B_dam=len(data[conditionB_d])\n",
    "conditionC_d =(data['q2_3_1'] == 1)&(data['q32']==2)\n",
    "C_dam=len(data[conditionC_d])\n",
    "conditionD_d =(data['q2_4_1'] == 1)&(data['q32']==2)\n",
    "D_dam=len(data[conditionD_d])\n",
    "conditionE_d =(data['q2_5_1'] == 1)&(data['q32']==2)\n",
    "E_dam=len(data[conditionE_d])\n",
    "conditionF_d =(data['q2_6_1'] == 1)&(data['q32']==2)\n",
    "F_dam=len(data[conditionF_d])\n"
   ]
  },
  {
   "cell_type": "markdown",
   "metadata": {},
   "source": [
    "ratio=[A_dam,B_dam,C_dam,D_dam,E_dam,F_dam]\n",
    "labels = ['논농사','밭농사','과수원','시설','축산','기타']\n",
    "colors=['r','c','b','m','y','k']\n",
    "wedgeprops={'width': 0.7, 'edgecolor': 'w', 'linewidth': 5}\n",
    "\n",
    "plt.pie(ratio, labels=labels, autopct='%.1f%%', startangle=2, counterclock=False,\n",
    "        radius=1.5,colors=colors, wedgeprops=wedgeprops)\n",
    "plt.show()\n"
   ]
  },
  {
   "cell_type": "code",
   "execution_count": 10,
   "metadata": {},
   "outputs": [
    {
     "data": {
      "text/plain": [
       "([<matplotlib.patches.Wedge at 0x163cbd11a30>,\n",
       "  <matplotlib.patches.Wedge at 0x163cbd013a0>,\n",
       "  <matplotlib.patches.Wedge at 0x163cbd01c70>,\n",
       "  <matplotlib.patches.Wedge at 0x163cd0bc580>,\n",
       "  <matplotlib.patches.Wedge at 0x163cd0bccd0>,\n",
       "  <matplotlib.patches.Wedge at 0x163cd0ac5e0>],\n",
       " [Text(0.6166030507365111, -0.9109339590894763, '논농사'),\n",
       "  Text(-1.0374444513821413, 0.36566242669490717, '밭농사'),\n",
       "  Text(0.6081437873841136, 0.9166030405066885, '과수원'),\n",
       "  Text(0.9790185667951062, 0.5015203344536054, '시설'),\n",
       "  Text(1.0851736588809247, 0.17999480567779316, '축산'),\n",
       "  Text(1.0991599944240251, 0.042980305463981, '기타')],\n",
       " [Text(0.3363289367653696, -0.4968730685942597, '32.2%'),\n",
       "  Text(-0.565878791662986, 0.19945223274267662, '47.6%'),\n",
       "  Text(0.33171479311860735, 0.49996529482183005, '10.3%'),\n",
       "  Text(0.5340101273427852, 0.2735565460656029, '6.0%'),\n",
       "  Text(0.5919129048441407, 0.09817898491515989, '3.9%'),\n",
       "  Text(0.5995418151403773, 0.02344380298035327, '0.1%')])"
      ]
     },
     "execution_count": 10,
     "metadata": {},
     "output_type": "execute_result"
    },
    {
     "data": {
      "text/plain": [
       "Text(0.5, 1.0, '손상 비율')"
      ]
     },
     "execution_count": 10,
     "metadata": {},
     "output_type": "execute_result"
    },
    {
     "data": {
      "image/png": "[encoded data removed]",
      "text/plain": [
       "<Figure size 432x288 with 1 Axes>"
      ]
     },
     "metadata": {},
     "output_type": "display_data"
    }
   ],
   "source": [
    "ratio=[A_dam,B_dam,C_dam,D_dam,E_dam,F_dam] \n",
    "labels = ['논농사','밭농사','과수원','시설','축산','기타'] \n",
    "colors=['tomato','c','lightgreen','#d395d0','#ffc000','k'] \n",
    "wedgeprops={'width': 0.7, 'edgecolor': 'w', 'linewidth': 5}\n",
    "plt.pie(ratio, labels=labels, autopct='%.1f%%', startangle=2, counterclock=False,\n",
    "        colors=colors, wedgeprops=wedgeprops,shadow=True)\n",
    "plt.title('손상 비율')\n",
    "plt.show()"
   ]
  },
  {
   "cell_type": "code",
   "execution_count": 7,
   "metadata": {},
   "outputs": [],
   "source": [
    "import matplotlib as mpl\n",
    "mpl.rcParams['axes.unicode_minus'] = False\n",
    "\n",
    "from matplotlib import font_manager, rc\n",
    "font_name = font_manager.FontProperties(fname='c:/Windows/Fonts/malgun.ttf').get_name()\n",
    "rc('font', family=font_name)"
   ]
  },
  {
   "cell_type": "code",
   "execution_count": 11,
   "metadata": {},
   "outputs": [
    {
     "data": {
      "image/png": "[encoded data removed]",
      "text/plain": [
       "<Figure size 500x500 with 1 Axes>"
      ]
     },
     "metadata": {
      "needs_background": "light"
     },
     "output_type": "display_data"
    }
   ],
   "source": [
    "import seaborn as sns\n",
    "A2=(A_dam/A)  #논\n",
    "B2=(B_dam/B)  #밭\n",
    "C2=(C_dam/C)  #과수원\n",
    "D2=(D_dam/D)  #시설\n",
    "E2=(E_dam/E)  #축산\n",
    "F2=(F_dam/F)  #기타\n",
    "\n",
    "\n",
    "fig=plt.figure(figsize=(5,5), dpi=100)\n",
    "ax=fig.subplots()\n",
    "\n",
    "data1=np.array([A_dam/len(data),B_dam/len(data),C_dam/len(data),\n",
    "                D_dam/len(data),E_dam/len(data),F_dam/len(data)])\n",
    "data2=np.array([A2,B2,C2,D2,E2,F2])\n",
    "X=np.arange(len(data1))\n",
    "\n",
    "_=ax.barh(X,data1,color='greenyellow',alpha=0.6)\n",
    "_=ax.barh(X,-data2,color='yellowgreen',alpha=0.6)\n",
    "_=ax.set_title('농업 종류별 손상 비율',fontsize=15)\n",
    "namelist=['논','밭','과수원','시설','축산','기타']\n",
    "for x in X:\n",
    "    _=ax.text(0,x,namelist[x],ha='center',va='center',fontsize=12)\n",
    "_=ax.set_xlim(-0.2,0.2)"
   ]
  },
  {
   "cell_type": "code",
   "execution_count": 7,
   "metadata": {},
   "outputs": [
    {
     "data": {
      "text/plain": [
       "504"
      ]
     },
     "execution_count": 7,
     "metadata": {},
     "output_type": "execute_result"
    },
    {
     "data": {
      "text/plain": [
       "17770"
      ]
     },
     "execution_count": 7,
     "metadata": {},
     "output_type": "execute_result"
    },
    {
     "data": {
      "text/plain": [
       "54       3.0\n",
       "59       3.0\n",
       "89       3.0\n",
       "117      5.0\n",
       "146      4.0\n",
       "        ... \n",
       "17645    3.0\n",
       "17652    4.0\n",
       "17663    3.0\n",
       "17676    4.0\n",
       "17760    9.0\n",
       "Name: aq6_1, Length: 504, dtype: float64"
      ]
     },
     "execution_count": 7,
     "metadata": {},
     "output_type": "execute_result"
    }
   ],
   "source": [
    "dam=(data[data['q32_1']==1])\n",
    "entire=len(data)\n",
    "len(dam)\n",
    "entire\n",
    "dam['aq6_1']\n",
    "#str(round((dam/entire)*100,2))+str('%')"
   ]
  },
  {
   "cell_type": "code",
   "execution_count": 2,
   "metadata": {},
   "outputs": [
    {
     "name": "stdout",
     "output_type": "stream",
     "text": [
      "Collecting WordCloud\n",
      "  Downloading wordcloud-1.8.1-cp38-cp38-win_amd64.whl (155 kB)\n",
      "Requirement already satisfied: matplotlib in c:\\users\\lg\\anaconda3\\lib\\site-packages (from WordCloud) (3.3.4)\n",
      "Requirement already satisfied: pillow in c:\\users\\lg\\anaconda3\\lib\\site-packages (from WordCloud) (8.2.0)\n",
      "Requirement already satisfied: numpy>=1.6.1 in c:\\users\\lg\\anaconda3\\lib\\site-packages (from WordCloud) (1.20.1)\n",
      "Requirement already satisfied: python-dateutil>=2.1 in c:\\users\\lg\\anaconda3\\lib\\site-packages (from matplotlib->WordCloud) (2.8.1)\n",
      "Requirement already satisfied: kiwisolver>=1.0.1 in c:\\users\\lg\\anaconda3\\lib\\site-packages (from matplotlib->WordCloud) (1.3.1)\n",
      "Requirement already satisfied: cycler>=0.10 in c:\\users\\lg\\anaconda3\\lib\\site-packages (from matplotlib->WordCloud) (0.10.0)\n",
      "Requirement already satisfied: pyparsing!=2.0.4,!=2.1.2,!=2.1.6,>=2.0.3 in c:\\users\\lg\\anaconda3\\lib\\site-packages (from matplotlib->WordCloud) (2.4.7)\n",
      "Requirement already satisfied: six in c:\\users\\lg\\anaconda3\\lib\\site-packages (from cycler>=0.10->matplotlib->WordCloud) (1.15.0)\n",
      "Installing collected packages: WordCloud\n",
      "Successfully installed WordCloud-1.8.1\n"
     ]
    }
   ],
   "source": [
    "!pip install WordCloud"
   ]
  },
  {
   "cell_type": "code",
   "execution_count": 8,
   "metadata": {},
   "outputs": [
    {
     "data": {
      "text/plain": [
       "8"
      ]
     },
     "execution_count": 8,
     "metadata": {},
     "output_type": "execute_result"
    },
    {
     "data": {
      "text/plain": [
       "54"
      ]
     },
     "execution_count": 8,
     "metadata": {},
     "output_type": "execute_result"
    },
    {
     "data": {
      "text/plain": [
       "160"
      ]
     },
     "execution_count": 8,
     "metadata": {},
     "output_type": "execute_result"
    },
    {
     "data": {
      "text/plain": [
       "69"
      ]
     },
     "execution_count": 8,
     "metadata": {},
     "output_type": "execute_result"
    },
    {
     "data": {
      "text/plain": [
       "64"
      ]
     },
     "execution_count": 8,
     "metadata": {},
     "output_type": "execute_result"
    },
    {
     "data": {
      "text/plain": [
       "25"
      ]
     },
     "execution_count": 8,
     "metadata": {},
     "output_type": "execute_result"
    },
    {
     "data": {
      "text/plain": [
       "19"
      ]
     },
     "execution_count": 8,
     "metadata": {},
     "output_type": "execute_result"
    },
    {
     "data": {
      "text/plain": [
       "53"
      ]
     },
     "execution_count": 8,
     "metadata": {},
     "output_type": "execute_result"
    },
    {
     "data": {
      "text/plain": [
       "17"
      ]
     },
     "execution_count": 8,
     "metadata": {},
     "output_type": "execute_result"
    },
    {
     "data": {
      "text/plain": [
       "15"
      ]
     },
     "execution_count": 8,
     "metadata": {},
     "output_type": "execute_result"
    },
    {
     "data": {
      "text/plain": [
       "12"
      ]
     },
     "execution_count": 8,
     "metadata": {},
     "output_type": "execute_result"
    },
    {
     "data": {
      "text/plain": [
       "4"
      ]
     },
     "execution_count": 8,
     "metadata": {},
     "output_type": "execute_result"
    },
    {
     "data": {
      "text/plain": [
       "2"
      ]
     },
     "execution_count": 8,
     "metadata": {},
     "output_type": "execute_result"
    },
    {
     "data": {
      "text/plain": [
       "2"
      ]
     },
     "execution_count": 8,
     "metadata": {},
     "output_type": "execute_result"
    },
    {
     "data": {
      "text/plain": [
       "{'농기계 추돌': 8,\n",
       " '단독 운전 사고': 54,\n",
       " '넘어짐': 160,\n",
       " '추락사고': 69,\n",
       " '무리한 힘이나 동작 사용': 64,\n",
       " '낙하 물체에 맞음': 25,\n",
       " '물체와 충돌': 19,\n",
       " '물체 접촉': 53,\n",
       " '기계 협착,감김': 17,\n",
       " '동물에 의한 상해': 15,\n",
       " '농약.유해물질 중독': 12,\n",
       " '고온,저온 환경 노출': 4,\n",
       " '보행 중 교통사고': 2,\n",
       " '기타': 2}"
      ]
     },
     "execution_count": 8,
     "metadata": {},
     "output_type": "execute_result"
    }
   ],
   "source": [
    "from wordcloud import WordCloud\n",
    "import matplotlib \n",
    "from matplotlib import rc\n",
    "import matplotlib.font_manager as fm\n",
    "import matplotlib.pyplot as plt\n",
    "\n",
    "dict = {}\n",
    "dic={1:'농기계 추돌',2:'단독 운전 사고',3:'넘어짐',4:'추락사고',5:'무리한 힘이나 동작 사용',6:'낙하 물체에 맞음',\n",
    " 7:'물체와 충돌',8:'물체 접촉',9:'기계 협착,감김',10:'동물에 의한 상해',11:'농약.유해물질 중독',12:'고온,저온 환경 노출'\n",
    ",13:'보행 중 교통사고',14:'기타'}\n",
    "for i in range(15)[1:]:\n",
    "    a=len(dam[dam['aq6_1']==i])\n",
    "    #print(dic[i],':',a)\n",
    "    dict.setdefault(dic[i],a)\n",
    "dict\n"
   ]
  },
  {
   "cell_type": "code",
   "execution_count": 14,
   "metadata": {},
   "outputs": [
    {
     "data": {
      "text/plain": [
       "<matplotlib.image.AxesImage at 0x163cde9e760>"
      ]
     },
     "execution_count": 14,
     "metadata": {},
     "output_type": "execute_result"
    },
    {
     "data": {
      "text/plain": [
       "Text(0.5, 1.0, '농업 손상 종류 비율')"
      ]
     },
     "execution_count": 14,
     "metadata": {},
     "output_type": "execute_result"
    },
    {
     "data": {
      "text/plain": [
       "(-0.5, 699.5, 699.5, -0.5)"
      ]
     },
     "execution_count": 14,
     "metadata": {},
     "output_type": "execute_result"
    },
    {
     "data": {
      "image/png": "[encoded data removed]",
      "text/plain": [
       "<Figure size 504x504 with 1 Axes>"
      ]
     },
     "metadata": {
      "needs_background": "light"
     },
     "output_type": "display_data"
    }
   ],
   "source": [
    "rc('font', family='malgun Gothic')\n",
    "wordcloud = WordCloud(\n",
    "    font_path = 'malgun.ttf',    \n",
    "    background_color='white',                             \n",
    "    colormap = 'Accent_r',                                \n",
    "    width = 700,\n",
    "    height = 700\n",
    ")\n",
    "\n",
    "wordcloud_words = wordcloud.generate_from_frequencies(dict)\n",
    "\n",
    "array = wordcloud.to_array()\n",
    "\n",
    "fig = plt.figure(figsize=(7, 7))\n",
    "plt.imshow(array, interpolation=\"bilinear\")\n",
    "fontprop = fm.FontProperties(fname='malgun.ttf', size=30)\n",
    "plt.rc('font', family='AppleGothic')\n",
    "plt.title('농업 손상 종류 비율', fontsize = 15)\n",
    "plt.axis('off')\n",
    "plt.show()"
   ]
  },
  {
   "cell_type": "code",
   "execution_count": 9,
   "metadata": {},
   "outputs": [
    {
     "data": {
      "text/plain": [
       "54         인천광역시\n",
       "59         인천광역시\n",
       "89         인천광역시\n",
       "117          경기도\n",
       "146          경기도\n",
       "          ...   \n",
       "17645    제주특별자치도\n",
       "17652    제주특별자치도\n",
       "17663    제주특별자치도\n",
       "17676    제주특별자치도\n",
       "17760    제주특별자치도\n",
       "Name: 시도명, Length: 504, dtype: object"
      ]
     },
     "execution_count": 9,
     "metadata": {},
     "output_type": "execute_result"
    },
    {
     "data": {
      "text/plain": [
       "8"
      ]
     },
     "execution_count": 9,
     "metadata": {},
     "output_type": "execute_result"
    },
    {
     "data": {
      "text/plain": [
       "54"
      ]
     },
     "execution_count": 9,
     "metadata": {},
     "output_type": "execute_result"
    },
    {
     "data": {
      "text/plain": [
       "160"
      ]
     },
     "execution_count": 9,
     "metadata": {},
     "output_type": "execute_result"
    },
    {
     "data": {
      "text/plain": [
       "69"
      ]
     },
     "execution_count": 9,
     "metadata": {},
     "output_type": "execute_result"
    },
    {
     "data": {
      "text/plain": [
       "64"
      ]
     },
     "execution_count": 9,
     "metadata": {},
     "output_type": "execute_result"
    },
    {
     "data": {
      "text/plain": [
       "25"
      ]
     },
     "execution_count": 9,
     "metadata": {},
     "output_type": "execute_result"
    },
    {
     "data": {
      "text/plain": [
       "19"
      ]
     },
     "execution_count": 9,
     "metadata": {},
     "output_type": "execute_result"
    },
    {
     "data": {
      "text/plain": [
       "53"
      ]
     },
     "execution_count": 9,
     "metadata": {},
     "output_type": "execute_result"
    },
    {
     "data": {
      "text/plain": [
       "17"
      ]
     },
     "execution_count": 9,
     "metadata": {},
     "output_type": "execute_result"
    },
    {
     "data": {
      "text/plain": [
       "15"
      ]
     },
     "execution_count": 9,
     "metadata": {},
     "output_type": "execute_result"
    },
    {
     "data": {
      "text/plain": [
       "12"
      ]
     },
     "execution_count": 9,
     "metadata": {},
     "output_type": "execute_result"
    },
    {
     "data": {
      "text/plain": [
       "4"
      ]
     },
     "execution_count": 9,
     "metadata": {},
     "output_type": "execute_result"
    },
    {
     "data": {
      "text/plain": [
       "2"
      ]
     },
     "execution_count": 9,
     "metadata": {},
     "output_type": "execute_result"
    },
    {
     "data": {
      "text/plain": [
       "2"
      ]
     },
     "execution_count": 9,
     "metadata": {},
     "output_type": "execute_result"
    },
    {
     "data": {
      "text/plain": [
       "{'농기계 추돌': 8,\n",
       " '단독 운전 사고': 54,\n",
       " '넘어짐': 160,\n",
       " '추락사고': 69,\n",
       " '무리한 힘이나 동작 사용': 64,\n",
       " '낙하 물체에 맞음': 25,\n",
       " '물체와 충돌': 19,\n",
       " '물체 접촉': 53,\n",
       " '기계 협착,감김': 17,\n",
       " '동물에 의한 상해': 15,\n",
       " '농약.유해물질 중독': 12,\n",
       " '고온,저온 환경 노출': 4,\n",
       " '보행 중 교통사고': 2,\n",
       " '기타': 2}"
      ]
     },
     "execution_count": 9,
     "metadata": {},
     "output_type": "execute_result"
    }
   ],
   "source": [
    "dam['시도명']\n",
    "dict = {}\n",
    "dic={1:'농기계 추돌',2:'단독 운전 사고',3:'넘어짐',4:'추락사고',5:'무리한 힘이나 동작 사용',6:'낙하 물체에 맞음',\n",
    " 7:'물체와 충돌',8:'물체 접촉',9:'기계 협착,감김',10:'동물에 의한 상해',11:'농약.유해물질 중독',12:'고온,저온 환경 노출'\n",
    ",13:'보행 중 교통사고',14:'기타'}\n",
    "for i in range(15)[1:]:\n",
    "    a=len(dam[dam['aq6_1']==i])\n",
    "    #print(dic[i],':',a)\n",
    "    dict.setdefault(dic[i],a)\n",
    "dict"
   ]
  },
  {
   "cell_type": "code",
   "execution_count": 10,
   "metadata": {
    "scrolled": true
   },
   "outputs": [
    {
     "data": {
      "text/plain": [
       "82"
      ]
     },
     "execution_count": 10,
     "metadata": {},
     "output_type": "execute_result"
    },
    {
     "data": {
      "text/plain": [
       "78"
      ]
     },
     "execution_count": 10,
     "metadata": {},
     "output_type": "execute_result"
    },
    {
     "data": {
      "text/plain": [
       "67"
      ]
     },
     "execution_count": 10,
     "metadata": {},
     "output_type": "execute_result"
    },
    {
     "data": {
      "text/plain": [
       "65"
      ]
     },
     "execution_count": 10,
     "metadata": {},
     "output_type": "execute_result"
    },
    {
     "data": {
      "text/plain": [
       "60"
      ]
     },
     "execution_count": 10,
     "metadata": {},
     "output_type": "execute_result"
    },
    {
     "data": {
      "text/plain": [
       "43"
      ]
     },
     "execution_count": 10,
     "metadata": {},
     "output_type": "execute_result"
    },
    {
     "data": {
      "text/plain": [
       "42"
      ]
     },
     "execution_count": 10,
     "metadata": {},
     "output_type": "execute_result"
    },
    {
     "data": {
      "text/plain": [
       "35"
      ]
     },
     "execution_count": 10,
     "metadata": {},
     "output_type": "execute_result"
    },
    {
     "data": {
      "text/plain": [
       "29"
      ]
     },
     "execution_count": 10,
     "metadata": {},
     "output_type": "execute_result"
    },
    {
     "data": {
      "text/plain": [
       "3"
      ]
     },
     "execution_count": 10,
     "metadata": {},
     "output_type": "execute_result"
    },
    {
     "data": {
      "text/plain": [
       "{'경상북도': 82,\n",
       " '경상남도': 78,\n",
       " '충청남도': 67,\n",
       " '충청북도': 65,\n",
       " '전라남도': 60,\n",
       " '경기도': 43,\n",
       " '전라북도': 42,\n",
       " '강원도': 35,\n",
       " '제주특별자치도': 29,\n",
       " '인천광역시': 3}"
      ]
     },
     "execution_count": 10,
     "metadata": {},
     "output_type": "execute_result"
    }
   ],
   "source": [
    "dam1111=dam['시도명'].value_counts(dropna = False)  \n",
    "시도명=dam1111.index\n",
    "값=dam1111.values\n",
    "dam_dict = {}\n",
    "for ind,val in zip(시도명, 값):\n",
    "    dam_dict.setdefault(ind,val)\n",
    "    \n",
    "dam_dict"
   ]
  },
  {
   "cell_type": "code",
   "execution_count": 17,
   "metadata": {
    "scrolled": true
   },
   "outputs": [
    {
     "data": {
      "text/plain": [
       "<matplotlib.image.AxesImage at 0x163cfe9fd90>"
      ]
     },
     "execution_count": 17,
     "metadata": {},
     "output_type": "execute_result"
    },
    {
     "data": {
      "text/plain": [
       "Text(0.5, 1.0, '시도별 손상 비율')"
      ]
     },
     "execution_count": 17,
     "metadata": {},
     "output_type": "execute_result"
    },
    {
     "data": {
      "text/plain": [
       "(-0.5, 699.5, 699.5, -0.5)"
      ]
     },
     "execution_count": 17,
     "metadata": {},
     "output_type": "execute_result"
    },
    {
     "data": {
      "image/png": "[encoded data removed]",
      "text/plain": [
       "<Figure size 504x504 with 1 Axes>"
      ]
     },
     "metadata": {
      "needs_background": "light"
     },
     "output_type": "display_data"
    }
   ],
   "source": [
    "rc('font', family='malgun Gothic')\n",
    "wordcloud = WordCloud(\n",
    "    font_path = 'malgun.ttf',    \n",
    "    background_color='white',                             \n",
    "    colormap = 'Accent_r',                                \n",
    "    width = 700,\n",
    "    height = 700\n",
    ")\n",
    "\n",
    "wordcloud_words = wordcloud.generate_from_frequencies(dam_dict)\n",
    "\n",
    "array = wordcloud.to_array()\n",
    "\n",
    "fig = plt.figure(figsize=(7, 7))\n",
    "plt.imshow(array, interpolation=\"bilinear\")\n",
    "fontprop = fm.FontProperties(fname='malgun.ttf', size=30)\n",
    "plt.rc('font', family='AppleGothic')\n",
    "plt.title('시도별 손상 비율', fontsize = 15)\n",
    "plt.axis('off')\n",
    "plt.show()"
   ]
  },
  {
   "cell_type": "code",
   "execution_count": 11,
   "metadata": {},
   "outputs": [],
   "source": [
    "import matplotlib as mpl\n",
    "mpl.rcParams['axes.unicode_minus'] = False\n",
    "\n",
    "from matplotlib import font_manager, rc\n",
    "font_name = font_manager.FontProperties(fname='c:/Windows/Fonts/malgun.ttf').get_name()\n",
    "rc('font', family=font_name)"
   ]
  },
  {
   "cell_type": "code",
   "execution_count": 20,
   "metadata": {},
   "outputs": [
    {
     "data": {
      "image/png": "[encoded data removed]",
      "text/plain": [
       "<Figure size 1800x800 with 2 Axes>"
      ]
     },
     "metadata": {
      "needs_background": "light"
     },
     "output_type": "display_data"
    }
   ],
   "source": [
    "import seaborn as sns\n",
    "fig=plt.figure(figsize=(18,8), dpi=100)\n",
    "ax1,ax2=fig.subplots(1,2)\n",
    "X=np.arange(len(값))\n",
    "colors = sns.color_palette('hls',len(시도명))\n",
    "_=ax1.bar(X,값,color=colors,alpha=0.7)\n",
    "_=ax1.set_xticks(X)\n",
    "_=ax1.set_xticklabels(시도명)\n",
    "_=ax1.set_title('손상별 시도명 비율',fontsize=15)\n",
    "\n",
    "for x,y in zip(range(len(값)),값):\n",
    "    _=ax1.text(x,y-1,y,ha='center',va='top',fontsize=14)\n",
    "    \n",
    "fig.tight_layout()"
   ]
  },
  {
   "cell_type": "code",
   "execution_count": 12,
   "metadata": {},
   "outputs": [
    {
     "data": {
      "text/plain": [
       "'넘어짐'"
      ]
     },
     "execution_count": 12,
     "metadata": {},
     "output_type": "execute_result"
    },
    {
     "data": {
      "text/plain": [
       "160"
      ]
     },
     "execution_count": 12,
     "metadata": {},
     "output_type": "execute_result"
    },
    {
     "data": {
      "text/plain": [
       "21"
      ]
     },
     "execution_count": 12,
     "metadata": {},
     "output_type": "execute_result"
    },
    {
     "data": {
      "text/plain": [
       "27"
      ]
     },
     "execution_count": 12,
     "metadata": {},
     "output_type": "execute_result"
    },
    {
     "data": {
      "text/plain": [
       "16"
      ]
     },
     "execution_count": 12,
     "metadata": {},
     "output_type": "execute_result"
    },
    {
     "data": {
      "text/plain": [
       "17"
      ]
     },
     "execution_count": 12,
     "metadata": {},
     "output_type": "execute_result"
    },
    {
     "data": {
      "text/plain": [
       "21"
      ]
     },
     "execution_count": 12,
     "metadata": {},
     "output_type": "execute_result"
    },
    {
     "data": {
      "text/plain": [
       "13"
      ]
     },
     "execution_count": 12,
     "metadata": {},
     "output_type": "execute_result"
    },
    {
     "data": {
      "text/plain": [
       "24"
      ]
     },
     "execution_count": 12,
     "metadata": {},
     "output_type": "execute_result"
    },
    {
     "data": {
      "text/plain": [
       "9"
      ]
     },
     "execution_count": 12,
     "metadata": {},
     "output_type": "execute_result"
    },
    {
     "data": {
      "text/plain": [
       "9"
      ]
     },
     "execution_count": 12,
     "metadata": {},
     "output_type": "execute_result"
    },
    {
     "data": {
      "text/plain": [
       "3"
      ]
     },
     "execution_count": 12,
     "metadata": {},
     "output_type": "execute_result"
    }
   ],
   "source": [
    "###손상이 젤 많은 넘어짐 > 시도명 추출###\n",
    "max(dict,key=dict.get)\n",
    "all_val=dict.values()\n",
    "max_val=max(all_val)\n",
    "max_val\n",
    "\n",
    "A3=len(dam[(dam['aq6_1'] ==3) & (dam['시도명'] == '경상북도')])\n",
    "B3=len(dam[(dam['aq6_1'] ==3) & (dam['시도명'] == '경상남도')])\n",
    "C3=len(dam[(dam['aq6_1'] ==3) & (dam['시도명'] == '충청남도')])\n",
    "D3=len(dam[(dam['aq6_1'] ==3) & (dam['시도명'] == '충청북도')])\n",
    "E3=len(dam[(dam['aq6_1'] ==3) & (dam['시도명'] == '전라남도')])\n",
    "F3=len(dam[(dam['aq6_1'] ==3) & (dam['시도명'] == '경기도')])\n",
    "G3=len(dam[(dam['aq6_1'] ==3) & (dam['시도명'] == '전라북도')])\n",
    "H3=len(dam[(dam['aq6_1'] ==3) & (dam['시도명'] == '강원도')])\n",
    "I3=len(dam[(dam['aq6_1'] ==3) & (dam['시도명'] == '제주특별자치도')])\n",
    "J3=len(dam[(dam['aq6_1'] ==3) & (dam['시도명'] == '인천광역시')])\n",
    "A3\n",
    "B3\n",
    "C3\n",
    "D3\n",
    "E3\n",
    "F3\n",
    "G3\n",
    "H3\n",
    "I3\n",
    "J3"
   ]
  },
  {
   "cell_type": "code",
   "execution_count": 22,
   "metadata": {},
   "outputs": [
    {
     "data": {
      "text/plain": [
       "19"
      ]
     },
     "execution_count": 22,
     "metadata": {},
     "output_type": "execute_result"
    },
    {
     "data": {
      "text/plain": [
       "8"
      ]
     },
     "execution_count": 22,
     "metadata": {},
     "output_type": "execute_result"
    },
    {
     "data": {
      "text/plain": [
       "4"
      ]
     },
     "execution_count": 22,
     "metadata": {},
     "output_type": "execute_result"
    },
    {
     "data": {
      "text/plain": [
       "13"
      ]
     },
     "execution_count": 22,
     "metadata": {},
     "output_type": "execute_result"
    },
    {
     "data": {
      "text/plain": [
       "3"
      ]
     },
     "execution_count": 22,
     "metadata": {},
     "output_type": "execute_result"
    },
    {
     "data": {
      "text/plain": [
       "4"
      ]
     },
     "execution_count": 22,
     "metadata": {},
     "output_type": "execute_result"
    },
    {
     "data": {
      "text/plain": [
       "5"
      ]
     },
     "execution_count": 22,
     "metadata": {},
     "output_type": "execute_result"
    },
    {
     "data": {
      "text/plain": [
       "6"
      ]
     },
     "execution_count": 22,
     "metadata": {},
     "output_type": "execute_result"
    },
    {
     "data": {
      "text/plain": [
       "7"
      ]
     },
     "execution_count": 22,
     "metadata": {},
     "output_type": "execute_result"
    },
    {
     "data": {
      "text/plain": [
       "0"
      ]
     },
     "execution_count": 22,
     "metadata": {},
     "output_type": "execute_result"
    }
   ],
   "source": [
    "##추락사\n",
    "A4=len(dam[(dam['aq6_1'] ==4) & (dam['시도명'] == '경상북도')])\n",
    "B4=len(dam[(dam['aq6_1'] ==4) & (dam['시도명'] == '경상남도')])\n",
    "C4=len(dam[(dam['aq6_1'] ==4) & (dam['시도명'] == '충청남도')])\n",
    "D4=len(dam[(dam['aq6_1'] ==4) & (dam['시도명'] == '충청북도')])\n",
    "E4=len(dam[(dam['aq6_1'] ==4) & (dam['시도명'] == '전라남도')])\n",
    "F4=len(dam[(dam['aq6_1'] ==4) & (dam['시도명'] == '경기도')])\n",
    "G4=len(dam[(dam['aq6_1'] ==4) & (dam['시도명'] == '전라북도')])\n",
    "H4=len(dam[(dam['aq6_1'] ==4) & (dam['시도명'] == '강원도')])\n",
    "I4=len(dam[(dam['aq6_1'] ==4) & (dam['시도명'] == '제주특별자치도')])\n",
    "J4=len(dam[(dam['aq6_1'] ==4) & (dam['시도명'] == '인천광역시')])\n",
    "A4\n",
    "B4\n",
    "C4\n",
    "D4\n",
    "E4\n",
    "F4\n",
    "G4\n",
    "H4\n",
    "I4\n",
    "J4"
   ]
  },
  {
   "cell_type": "code",
   "execution_count": 23,
   "metadata": {},
   "outputs": [
    {
     "data": {
      "text/html": [
       "<div>\n",
       "<style scoped>\n",
       "    .dataframe tbody tr th:only-of-type {\n",
       "        vertical-align: middle;\n",
       "    }\n",
       "\n",
       "    .dataframe tbody tr th {\n",
       "        vertical-align: top;\n",
       "    }\n",
       "\n",
       "    .dataframe thead th {\n",
       "        text-align: right;\n",
       "    }\n",
       "</style>\n",
       "<table border=\"1\" class=\"dataframe\">\n",
       "  <thead>\n",
       "    <tr style=\"text-align: right;\">\n",
       "      <th></th>\n",
       "      <th>id</th>\n",
       "      <th>시도명</th>\n",
       "      <th>시군구명</th>\n",
       "      <th>읍면동명</th>\n",
       "      <th>행정리명</th>\n",
       "      <th>조사가구번호</th>\n",
       "      <th>q1_1</th>\n",
       "      <th>q1_2</th>\n",
       "      <th>q2_1_1</th>\n",
       "      <th>q2_1_2</th>\n",
       "      <th>...</th>\n",
       "      <th>aq8_1_2etc</th>\n",
       "      <th>aq9_1</th>\n",
       "      <th>aq9_1_1</th>\n",
       "      <th>aq9_1_1etc</th>\n",
       "      <th>aq10_1</th>\n",
       "      <th>aq11_1</th>\n",
       "      <th>re1</th>\n",
       "      <th>q1_1re</th>\n",
       "      <th>age</th>\n",
       "      <th>age2</th>\n",
       "    </tr>\n",
       "  </thead>\n",
       "  <tbody>\n",
       "    <tr>\n",
       "      <th>54</th>\n",
       "      <td>55</td>\n",
       "      <td>인천광역시</td>\n",
       "      <td>강화군</td>\n",
       "      <td>불은면</td>\n",
       "      <td>오두리</td>\n",
       "      <td>2</td>\n",
       "      <td>고추</td>\n",
       "      <td>2-3</td>\n",
       "      <td>2</td>\n",
       "      <td>NaN</td>\n",
       "      <td>...</td>\n",
       "      <td>NaN</td>\n",
       "      <td>1.0</td>\n",
       "      <td>3.0</td>\n",
       "      <td>4.0</td>\n",
       "      <td>1.0</td>\n",
       "      <td>2.0</td>\n",
       "      <td>경기</td>\n",
       "      <td>2</td>\n",
       "      <td>a4</td>\n",
       "      <td>경기a4</td>\n",
       "    </tr>\n",
       "    <tr>\n",
       "      <th>59</th>\n",
       "      <td>60</td>\n",
       "      <td>인천광역시</td>\n",
       "      <td>강화군</td>\n",
       "      <td>불은면</td>\n",
       "      <td>오두리</td>\n",
       "      <td>7</td>\n",
       "      <td>고추</td>\n",
       "      <td>2-3</td>\n",
       "      <td>2</td>\n",
       "      <td>NaN</td>\n",
       "      <td>...</td>\n",
       "      <td>NaN</td>\n",
       "      <td>1.0</td>\n",
       "      <td>3.0</td>\n",
       "      <td>2.0</td>\n",
       "      <td>1.0</td>\n",
       "      <td>1.0</td>\n",
       "      <td>경기</td>\n",
       "      <td>2</td>\n",
       "      <td>a3</td>\n",
       "      <td>경기a3</td>\n",
       "    </tr>\n",
       "    <tr>\n",
       "      <th>89</th>\n",
       "      <td>90</td>\n",
       "      <td>인천광역시</td>\n",
       "      <td>강화군</td>\n",
       "      <td>길상면</td>\n",
       "      <td>초지리</td>\n",
       "      <td>6</td>\n",
       "      <td>고추</td>\n",
       "      <td>2-3</td>\n",
       "      <td>2</td>\n",
       "      <td>NaN</td>\n",
       "      <td>...</td>\n",
       "      <td>NaN</td>\n",
       "      <td>1.0</td>\n",
       "      <td>3.0</td>\n",
       "      <td>30.0</td>\n",
       "      <td>1.0</td>\n",
       "      <td>4.0</td>\n",
       "      <td>경기</td>\n",
       "      <td>2</td>\n",
       "      <td>a4</td>\n",
       "      <td>경기a4</td>\n",
       "    </tr>\n",
       "    <tr>\n",
       "      <th>117</th>\n",
       "      <td>118</td>\n",
       "      <td>경기도</td>\n",
       "      <td>평택시</td>\n",
       "      <td>서탄면</td>\n",
       "      <td>마두1리</td>\n",
       "      <td>10</td>\n",
       "      <td>벼</td>\n",
       "      <td>1-1</td>\n",
       "      <td>1</td>\n",
       "      <td>6270.0</td>\n",
       "      <td>...</td>\n",
       "      <td>NaN</td>\n",
       "      <td>1.0</td>\n",
       "      <td>3.0</td>\n",
       "      <td>7.0</td>\n",
       "      <td>1.0</td>\n",
       "      <td>2.0</td>\n",
       "      <td>경기</td>\n",
       "      <td>1</td>\n",
       "      <td>a3</td>\n",
       "      <td>경기a3</td>\n",
       "    </tr>\n",
       "    <tr>\n",
       "      <th>146</th>\n",
       "      <td>147</td>\n",
       "      <td>경기도</td>\n",
       "      <td>평택시</td>\n",
       "      <td>오성면</td>\n",
       "      <td>숙성2리</td>\n",
       "      <td>3</td>\n",
       "      <td>꿀벌</td>\n",
       "      <td>5-1</td>\n",
       "      <td>2</td>\n",
       "      <td>NaN</td>\n",
       "      <td>...</td>\n",
       "      <td>NaN</td>\n",
       "      <td>1.0</td>\n",
       "      <td>3.0</td>\n",
       "      <td>14.0</td>\n",
       "      <td>1.0</td>\n",
       "      <td>3.0</td>\n",
       "      <td>경기</td>\n",
       "      <td>5</td>\n",
       "      <td>a4</td>\n",
       "      <td>경기a4</td>\n",
       "    </tr>\n",
       "  </tbody>\n",
       "</table>\n",
       "<p>5 rows × 103 columns</p>\n",
       "</div>"
      ],
      "text/plain": [
       "      id    시도명 시군구명 읍면동명  행정리명  조사가구번호 q1_1 q1_2  q2_1_1  q2_1_2  ...  \\\n",
       "54    55  인천광역시  강화군  불은면   오두리       2   고추  2-3       2     NaN  ...   \n",
       "59    60  인천광역시  강화군  불은면   오두리       7   고추  2-3       2     NaN  ...   \n",
       "89    90  인천광역시  강화군  길상면   초지리       6   고추  2-3       2     NaN  ...   \n",
       "117  118    경기도  평택시  서탄면  마두1리      10    벼  1-1       1  6270.0  ...   \n",
       "146  147    경기도  평택시  오성면  숙성2리       3   꿀벌  5-1       2     NaN  ...   \n",
       "\n",
       "     aq8_1_2etc  aq9_1  aq9_1_1  aq9_1_1etc  aq10_1  aq11_1  re1  q1_1re  age  \\\n",
       "54          NaN    1.0      3.0         4.0     1.0     2.0   경기       2   a4   \n",
       "59          NaN    1.0      3.0         2.0     1.0     1.0   경기       2   a3   \n",
       "89          NaN    1.0      3.0        30.0     1.0     4.0   경기       2   a4   \n",
       "117         NaN    1.0      3.0         7.0     1.0     2.0   경기       1   a3   \n",
       "146         NaN    1.0      3.0        14.0     1.0     3.0   경기       5   a4   \n",
       "\n",
       "     age2  \n",
       "54   경기a4  \n",
       "59   경기a3  \n",
       "89   경기a4  \n",
       "117  경기a3  \n",
       "146  경기a4  \n",
       "\n",
       "[5 rows x 103 columns]"
      ]
     },
     "execution_count": 23,
     "metadata": {},
     "output_type": "execute_result"
    },
    {
     "data": {
      "text/plain": [
       "6"
      ]
     },
     "execution_count": 23,
     "metadata": {},
     "output_type": "execute_result"
    },
    {
     "data": {
      "text/plain": [
       "Text(0, 4, '4')"
      ]
     },
     "execution_count": 23,
     "metadata": {},
     "output_type": "execute_result"
    },
    {
     "data": {
      "text/plain": [
       "Text(1, 8, '8')"
      ]
     },
     "execution_count": 23,
     "metadata": {},
     "output_type": "execute_result"
    },
    {
     "data": {
      "text/plain": [
       "Text(2, 47, '47')"
      ]
     },
     "execution_count": 23,
     "metadata": {},
     "output_type": "execute_result"
    },
    {
     "data": {
      "text/plain": [
       "Text(3, 164, '164')"
      ]
     },
     "execution_count": 23,
     "metadata": {},
     "output_type": "execute_result"
    },
    {
     "data": {
      "text/plain": [
       "Text(4, 178, '178')"
      ]
     },
     "execution_count": 23,
     "metadata": {},
     "output_type": "execute_result"
    },
    {
     "data": {
      "text/plain": [
       "Text(5, 103, '103')"
      ]
     },
     "execution_count": 23,
     "metadata": {},
     "output_type": "execute_result"
    },
    {
     "data": {
      "image/png": "[encoded data removed]",
      "text/plain": [
       "<Figure size 500x500 with 1 Axes>"
      ]
     },
     "metadata": {
      "needs_background": "light"
     },
     "output_type": "display_data"
    }
   ],
   "source": [
    "##손상 , 성별 , 나이\n",
    "dam.head()\n",
    "men_dam=len(dam[dam['q9']==1])\n",
    "women_dam=len(dam[dam['q9']==2])\n",
    "dam_m=dam['q10'].sort_values()\n",
    "age_2030=[]\n",
    "age_40=[]\n",
    "age_50=[]\n",
    "age_60=[]\n",
    "age_70=[]\n",
    "age_8090=[]\n",
    "for val in dam_m:\n",
    "    if (val >=20) & (val <40):\n",
    "        age_2030.append(val)\n",
    "    elif (val >=40) & (val <50):\n",
    "        age_40.append(val)\n",
    "    elif (val >=50) & (val <60):\n",
    "        age_50.append(val)\n",
    "    elif (val >=60) & (val <70):\n",
    "        age_60.append(val)\n",
    "    elif (val >=70) & (val <80):\n",
    "        age_70.append(val)\n",
    "    else:\n",
    "        age_8090.append(val)\n",
    "\n",
    "age_2030=len(age_2030)\n",
    "age_40=len(age_40)\n",
    "age_50=len(age_50)\n",
    "age_60=len(age_60)\n",
    "age_70=len(age_70)\n",
    "age_8090=len(age_8090)\n",
    "\n",
    "\n",
    "fig=plt.figure(figsize=(5,5), dpi=100)\n",
    "ax=fig.subplots()\n",
    "X=np.arange(6)\n",
    "len(X)\n",
    "colors = sns.color_palette('hls',len(X))\n",
    "\n",
    "_=ax.bar(X,[age_2030,age_40,age_50,age_60,age_70,age_8090],color=colors,alpha=0.7)\n",
    "\n",
    "_=ax.set_xticks(X)\n",
    "_=ax.set_xticklabels(['20~30대','40대','50대','60대','70대','80~90대'])\n",
    "_=ax.set_title('손상 농업인 연령',fontsize=15)\n",
    "Y=[age_2030,age_40,age_50,age_60,age_70,age_8090]\n",
    "for x,y in zip(X,Y):\n",
    "    ax.text(x,y,y,ha='center',va='bottom')"
   ]
  },
  {
   "cell_type": "code",
   "execution_count": 25,
   "metadata": {},
   "outputs": [
    {
     "data": {
      "text/plain": [
       "278"
      ]
     },
     "execution_count": 25,
     "metadata": {},
     "output_type": "execute_result"
    },
    {
     "data": {
      "text/plain": [
       "207"
      ]
     },
     "execution_count": 25,
     "metadata": {},
     "output_type": "execute_result"
    },
    {
     "data": {
      "text/plain": [
       "19"
      ]
     },
     "execution_count": 25,
     "metadata": {},
     "output_type": "execute_result"
    },
    {
     "data": {
      "text/plain": [
       "127"
      ]
     },
     "execution_count": 25,
     "metadata": {},
     "output_type": "execute_result"
    },
    {
     "data": {
      "text/plain": [
       "341"
      ]
     },
     "execution_count": 25,
     "metadata": {},
     "output_type": "execute_result"
    },
    {
     "data": {
      "text/plain": [
       "36"
      ]
     },
     "execution_count": 25,
     "metadata": {},
     "output_type": "execute_result"
    },
    {
     "data": {
      "text/plain": [
       "259"
      ]
     },
     "execution_count": 25,
     "metadata": {},
     "output_type": "execute_result"
    },
    {
     "data": {
      "text/plain": [
       "215"
      ]
     },
     "execution_count": 25,
     "metadata": {},
     "output_type": "execute_result"
    },
    {
     "data": {
      "text/plain": [
       "30"
      ]
     },
     "execution_count": 25,
     "metadata": {},
     "output_type": "execute_result"
    },
    {
     "data": {
      "text/plain": [
       "72"
      ]
     },
     "execution_count": 25,
     "metadata": {},
     "output_type": "execute_result"
    },
    {
     "data": {
      "text/plain": [
       "410"
      ]
     },
     "execution_count": 25,
     "metadata": {},
     "output_type": "execute_result"
    },
    {
     "data": {
      "text/plain": [
       "22"
      ]
     },
     "execution_count": 25,
     "metadata": {},
     "output_type": "execute_result"
    },
    {
     "data": {
      "text/plain": [
       "106"
      ]
     },
     "execution_count": 25,
     "metadata": {},
     "output_type": "execute_result"
    },
    {
     "data": {
      "text/plain": [
       "386"
      ]
     },
     "execution_count": 25,
     "metadata": {},
     "output_type": "execute_result"
    },
    {
     "data": {
      "text/plain": [
       "12"
      ]
     },
     "execution_count": 25,
     "metadata": {},
     "output_type": "execute_result"
    }
   ],
   "source": [
    "##\n",
    "len(dam[dam['q31_1']==1])\n",
    "len(dam[dam['q31_1']==2])\n",
    "len(dam[dam['q31_1']==3])\n",
    "\n",
    "len(dam[dam['q31_2']==1])\n",
    "len(dam[dam['q31_2']==2])\n",
    "len(dam[dam['q31_2']==3])\n",
    "\n",
    "len(dam[dam['q31_3']==1])\n",
    "len(dam[dam['q31_3']==2])\n",
    "len(dam[dam['q31_3']==3])\n",
    "\n",
    "len(dam[dam['q31_4']==1])\n",
    "len(dam[dam['q31_4']==2])\n",
    "len(dam[dam['q31_4']==3])\n",
    "\n",
    "len(dam[dam['q31_5']==1])\n",
    "len(dam[dam['q31_5']==2])\n",
    "len(dam[dam['q31_5']==3])"
   ]
  },
  {
   "cell_type": "code",
   "execution_count": 26,
   "metadata": {},
   "outputs": [
    {
     "data": {
      "image/png": "[encoded data removed]",
      "text/plain": [
       "<Figure size 500x500 with 1 Axes>"
      ]
     },
     "metadata": {
      "needs_background": "light"
     },
     "output_type": "display_data"
    }
   ],
   "source": [
    "#2\n",
    "a1=len(dam[dam['q31_2']==1])\n",
    "b1=len(dam[dam['q31_2']==2])\n",
    "c1=len(dam[dam['q31_2']==3])\n",
    "\n",
    "#\n",
    "a2=len(dam[dam['q31_4']==1])\n",
    "b2=len(dam[dam['q31_4']==2])\n",
    "c2=len(dam[dam['q31_4']==3])\n",
    "\n",
    "#5\n",
    "a3=len(dam[dam['q31_5']==1])\n",
    "b3=len(dam[dam['q31_5']==2])\n",
    "c3=len(dam[dam['q31_5']==3])\n",
    "\n",
    "\n",
    "fig=plt.figure(figsize=(5,5), dpi=100)\n",
    "ax=fig.subplots()\n",
    "X=np.arange(3)\n",
    "bar1=ax.bar(X,[a1,a2,a3],width=0.2,color='lightsteelblue')\n",
    "bar2=ax.bar(X+0.2,[b1,b2,b3],width=0.2,color='salmon')\n",
    "bar3=ax.bar(X+0.4,[c1,c2,c3],width=0.2,color='darkseagreen')\n",
    "_=ax.set_title('안전사고 예방 물품 구입 여부 (손상)',fontsize=15)\n",
    "_=ax.set_xticks([0.2,1.2,2.2])\n",
    "_=ax.set_xticklabels(['농약 방제복','농기계 \\n교통사고 예방물품','예취기 보호구'])\n",
    "_=ax.legend(handles=(bar1,bar2,bar3),\n",
    "            labels=['구입', '미구입', '지원/보조'],\n",
    "            bbox_to_anchor=(1,1),\n",
    "            loc='upper left',\n",
    "            fontsize=12)"
   ]
  },
  {
   "cell_type": "code",
   "execution_count": 27,
   "metadata": {},
   "outputs": [
    {
     "data": {
      "text/plain": [
       "566"
      ]
     },
     "execution_count": 27,
     "metadata": {},
     "output_type": "execute_result"
    },
    {
     "data": {
      "text/plain": [
       "2"
      ]
     },
     "execution_count": 27,
     "metadata": {},
     "output_type": "execute_result"
    },
    {
     "data": {
      "text/plain": [
       "Text(0, 67, '69')"
      ]
     },
     "execution_count": 27,
     "metadata": {},
     "output_type": "execute_result"
    },
    {
     "data": {
      "text/plain": [
       "Text(1, 47, '49')"
      ]
     },
     "execution_count": 27,
     "metadata": {},
     "output_type": "execute_result"
    },
    {
     "data": {
      "image/png": "[encoded data removed]",
      "text/plain": [
       "<Figure size 500x500 with 1 Axes>"
      ]
     },
     "metadata": {
      "needs_background": "light"
     },
     "output_type": "display_data"
    }
   ],
   "source": [
    "len(data[data['q29_2_1']==2])\n",
    "\n",
    "#추락사고, 사다리\n",
    "p=len(dam[(dam['q26']!=5) & (dam['aq6_1']==4)])\n",
    "p1=len(dam[dam['aq6_1']==4])\n",
    "\n",
    "fig=plt.figure(figsize=(5,5), dpi=100)\n",
    "ax=fig.subplots()\n",
    "X=np.arange(2)\n",
    "len(X)\n",
    "c=['lightpink','c']\n",
    "_=ax.bar(X,[p1,p],color=c)\n",
    "\n",
    "_=ax.set_xticks(X)\n",
    "_=ax.set_xticklabels(['추락사고','손상 중 사다리 이용'])\n",
    "_=ax.set_title('추락사고와 사다리의 관계성',fontsize=15)\n",
    "Y=[p1,p]\n",
    "for x,y in zip(X,Y):\n",
    "    ax.text(x,y-2,y,ha='center',va='top',fontsize=13)"
   ]
  },
  {
   "cell_type": "code",
   "execution_count": 28,
   "metadata": {},
   "outputs": [
    {
     "data": {
      "text/plain": [
       "90"
      ]
     },
     "execution_count": 28,
     "metadata": {},
     "output_type": "execute_result"
    },
    {
     "data": {
      "text/plain": [
       "119"
      ]
     },
     "execution_count": 28,
     "metadata": {},
     "output_type": "execute_result"
    },
    {
     "data": {
      "text/plain": [
       "8"
      ]
     },
     "execution_count": 28,
     "metadata": {},
     "output_type": "execute_result"
    },
    {
     "data": {
      "text/plain": [
       "13"
      ]
     },
     "execution_count": 28,
     "metadata": {},
     "output_type": "execute_result"
    },
    {
     "data": {
      "text/plain": [
       "12"
      ]
     },
     "execution_count": 28,
     "metadata": {},
     "output_type": "execute_result"
    },
    {
     "data": {
      "text/plain": [
       "1"
      ]
     },
     "execution_count": 28,
     "metadata": {},
     "output_type": "execute_result"
    },
    {
     "data": {
      "text/plain": [
       "25"
      ]
     },
     "execution_count": 28,
     "metadata": {},
     "output_type": "execute_result"
    },
    {
     "data": {
      "text/plain": [
       "35"
      ]
     },
     "execution_count": 28,
     "metadata": {},
     "output_type": "execute_result"
    },
    {
     "data": {
      "text/plain": [
       "27"
      ]
     },
     "execution_count": 28,
     "metadata": {},
     "output_type": "execute_result"
    },
    {
     "data": {
      "text/plain": [
       "9"
      ]
     },
     "execution_count": 28,
     "metadata": {},
     "output_type": "execute_result"
    },
    {
     "data": {
      "text/plain": [
       "6"
      ]
     },
     "execution_count": 28,
     "metadata": {},
     "output_type": "execute_result"
    },
    {
     "data": {
      "text/plain": [
       "0"
      ]
     },
     "execution_count": 28,
     "metadata": {},
     "output_type": "execute_result"
    }
   ],
   "source": [
    "#넘어짐과 농업 현황\n",
    "len(dam[(dam['aq6_1'] ==3) & (dam['q2_1_1'] == 1)])\n",
    "len(dam[(dam['aq6_1'] ==3) & (dam['q2_2_1'] == 1)])\n",
    "len(dam[(dam['aq6_1'] ==3) & (dam['q2_3_1'] == 1)])\n",
    "len(dam[(dam['aq6_1'] ==3) & (dam['q2_4_1'] == 1)])\n",
    "len(dam[(dam['aq6_1'] ==3) & (dam['q2_5_1'] == 1)])\n",
    "len(dam[(dam['aq6_1'] ==3) & (dam['q2_6_1'] == 1)])\n",
    "\n",
    "#추락사고, 농업현황\n",
    "len(dam[(dam['aq6_1'] ==4) & (dam['q2_1_1'] == 1)])\n",
    "len(dam[(dam['aq6_1'] ==4) & (dam['q2_2_1'] == 1)])\n",
    "len(dam[(dam['aq6_1'] ==4) & (dam['q2_3_1'] == 1)])\n",
    "len(dam[(dam['aq6_1'] ==4) & (dam['q2_4_1'] == 1)])\n",
    "len(dam[(dam['aq6_1'] ==4) & (dam['q2_5_1'] == 1)])\n",
    "len(dam[(dam['aq6_1'] ==4) & (dam['q2_6_1'] == 1)])"
   ]
  },
  {
   "cell_type": "code",
   "execution_count": 29,
   "metadata": {},
   "outputs": [
    {
     "data": {
      "image/png": "[encoded data removed]",
      "text/plain": [
       "<Figure size 500x500 with 1 Axes>"
      ]
     },
     "metadata": {
      "needs_background": "light"
     },
     "output_type": "display_data"
    }
   ],
   "source": [
    "fig=plt.figure(figsize=(5,5), dpi=100)\n",
    "ax=fig.subplots()\n",
    "#넘어짐과 농업 현황\n",
    "b1=len(dam[(dam['aq6_1'] ==3) & (dam['q2_1_1'] == 1)])\n",
    "b2=len(dam[(dam['aq6_1'] ==3) & (dam['q2_2_1'] == 1)])\n",
    "b3=len(dam[(dam['aq6_1'] ==3) & (dam['q2_3_1'] == 1)])\n",
    "b4=len(dam[(dam['aq6_1'] ==3) & (dam['q2_4_1'] == 1)])\n",
    "b5=len(dam[(dam['aq6_1'] ==3) & (dam['q2_5_1'] == 1)])\n",
    "b6=len(dam[(dam['aq6_1'] ==3) & (dam['q2_6_1'] == 1)])\n",
    "X=np.arange(6)\n",
    "Y=[b1,b2,b3,b4,b5,b6]\n",
    "colors = sns.color_palette('hls',len(X))\n",
    "_=ax.bar(X,Y,color=colors,alpha=0.7)\n",
    "_=ax.set_xticks(X)\n",
    "_=ax.set_xticklabels(['논','밭','과수원','시설','축산','기타'])\n",
    "_=ax.set_title('농업별 넘어짐',fontsize=15)"
   ]
  },
  {
   "cell_type": "code",
   "execution_count": 30,
   "metadata": {},
   "outputs": [
    {
     "data": {
      "text/plain": [
       "504"
      ]
     },
     "execution_count": 30,
     "metadata": {},
     "output_type": "execute_result"
    },
    {
     "data": {
      "text/plain": [
       "425"
      ]
     },
     "execution_count": 30,
     "metadata": {},
     "output_type": "execute_result"
    },
    {
     "data": {
      "text/plain": [
       "258"
      ]
     },
     "execution_count": 30,
     "metadata": {},
     "output_type": "execute_result"
    },
    {
     "data": {
      "text/plain": [
       "167"
      ]
     },
     "execution_count": 30,
     "metadata": {},
     "output_type": "execute_result"
    }
   ],
   "source": [
    "#aq9_1_1  성별, 휴업 1일 이상\n",
    "len(dam)\n",
    "len(dam[(dam['aq9_1_1']==3)])   #휴업일 1일 이상 (전체)  비율: 84.33\n",
    "\n",
    "men_dam=len(dam[dam['q9']==1])\n",
    "women_dam=len(dam[dam['q9']==2])\n",
    "\n",
    "len(dam[(dam['q9']==1)&(dam['aq9_1_1']==3)])   #휴업일 1일 이상 (남자)  비율 : 51.19\n",
    "len(dam[(dam['q9']==2)&(dam['aq9_1_1']==3)])   #휴업일 1일 이상 (여자)  비율 : 33.13"
   ]
  },
  {
   "cell_type": "code",
   "execution_count": 32,
   "metadata": {},
   "outputs": [
    {
     "data": {
      "text/plain": [
       "8"
      ]
     },
     "execution_count": 32,
     "metadata": {},
     "output_type": "execute_result"
    },
    {
     "data": {
      "text/plain": [
       "36"
      ]
     },
     "execution_count": 32,
     "metadata": {},
     "output_type": "execute_result"
    },
    {
     "data": {
      "text/plain": [
       "135"
      ]
     },
     "execution_count": 32,
     "metadata": {},
     "output_type": "execute_result"
    },
    {
     "data": {
      "text/plain": [
       "162"
      ]
     },
     "execution_count": 32,
     "metadata": {},
     "output_type": "execute_result"
    },
    {
     "data": {
      "text/plain": [
       "84"
      ]
     },
     "execution_count": 32,
     "metadata": {},
     "output_type": "execute_result"
    }
   ],
   "source": [
    "#aq9_1_1  연령별, 휴업 1일 이상\n",
    "dowm_50=dam[(dam['q10']<50) & (dam['aq9_1_1']==3)]    #휴업일 1일 이상 (50미만)  비율 : 1.59\n",
    "bet_5060=dam[(dam['q10']>=50)& (dam['q10']<60) & (dam['aq9_1_1']==3)]  #휴업일 1일 이상 (50대)  비율 : 7.14\n",
    "bet_6070=dam[(dam['q10']>=60)& (dam['q10']<70) & (dam['aq9_1_1']==3)]  #휴업일 1일 이상 (60대)  비율 : 26.79\n",
    "bet_7080=dam[(dam['q10']>=70)& (dam['q10']<80) & (dam['aq9_1_1']==3)]  #휴업일 1일 이상 (70대)  비율 : 32.14\n",
    "up_80=dam[(dam['q10']>=80) & (dam['aq9_1_1']==3)]  #휴업일 1일 이상 (80대 이상)  비율 : 16.67\n",
    "len(dowm_50)\n",
    "len(bet_5060)\n",
    "len(bet_6070)\n",
    "len(bet_7080)\n",
    "len(up_80)"
   ]
  },
  {
   "cell_type": "code",
   "execution_count": 105,
   "metadata": {},
   "outputs": [
    {
     "data": {
      "text/plain": [
       "5"
      ]
     },
     "execution_count": 105,
     "metadata": {},
     "output_type": "execute_result"
    },
    {
     "data": {
      "text/plain": [
       "47"
      ]
     },
     "execution_count": 105,
     "metadata": {},
     "output_type": "execute_result"
    },
    {
     "data": {
      "text/plain": [
       "140"
      ]
     },
     "execution_count": 105,
     "metadata": {},
     "output_type": "execute_result"
    },
    {
     "data": {
      "text/plain": [
       "56"
      ]
     },
     "execution_count": 105,
     "metadata": {},
     "output_type": "execute_result"
    },
    {
     "data": {
      "text/plain": [
       "53"
      ]
     },
     "execution_count": 105,
     "metadata": {},
     "output_type": "execute_result"
    },
    {
     "data": {
      "text/plain": [
       "22"
      ]
     },
     "execution_count": 105,
     "metadata": {},
     "output_type": "execute_result"
    },
    {
     "data": {
      "text/plain": [
       "17"
      ]
     },
     "execution_count": 105,
     "metadata": {},
     "output_type": "execute_result"
    },
    {
     "data": {
      "text/plain": [
       "45"
      ]
     },
     "execution_count": 105,
     "metadata": {},
     "output_type": "execute_result"
    },
    {
     "data": {
      "text/plain": [
       "13"
      ]
     },
     "execution_count": 105,
     "metadata": {},
     "output_type": "execute_result"
    },
    {
     "data": {
      "text/plain": [
       "10"
      ]
     },
     "execution_count": 105,
     "metadata": {},
     "output_type": "execute_result"
    },
    {
     "data": {
      "text/plain": [
       "10"
      ]
     },
     "execution_count": 105,
     "metadata": {},
     "output_type": "execute_result"
    },
    {
     "data": {
      "text/plain": [
       "4"
      ]
     },
     "execution_count": 105,
     "metadata": {},
     "output_type": "execute_result"
    },
    {
     "data": {
      "text/plain": [
       "2"
      ]
     },
     "execution_count": 105,
     "metadata": {},
     "output_type": "execute_result"
    },
    {
     "data": {
      "text/plain": [
       "1"
      ]
     },
     "execution_count": 105,
     "metadata": {},
     "output_type": "execute_result"
    }
   ],
   "source": [
    "#aq9_1_1  형태별, 휴업 1일 이상\n",
    "len(dam[(dam['aq6_1'] ==1) & (dam['aq9_1_1'] == 3)])  #휴업일 1일 이상 (농기계 추돌)  비율: 0.99\n",
    "len(dam[(dam['aq6_1'] ==2) & (dam['aq9_1_1'] == 3)])  #휴업일 1일 이상 (단독운전사고)  비율: 9.33\n",
    "len(dam[(dam['aq6_1'] ==3) & (dam['aq9_1_1'] == 3)])  #휴업일 1일 이상 (넘어짐)  비율: 27.78\n",
    "len(dam[(dam['aq6_1'] ==4) & (dam['aq9_1_1'] == 3)])  #휴업일 1일 이상 (추락사고)  비율: 11.11\n",
    "len(dam[(dam['aq6_1'] ==5) & (dam['aq9_1_1'] == 3)])  #휴업일 1일 이상 (신체반응)  비율: 10.52\n",
    "len(dam[(dam['aq6_1'] ==6) & (dam['aq9_1_1'] == 3)])  #휴업일 1일 이상 (낙하)  비율: 4.37\n",
    "len(dam[(dam['aq6_1'] ==7) & (dam['aq9_1_1'] == 3)])  #휴업일 1일 이상 (충돌)  비율: 3.37\n",
    "len(dam[(dam['aq6_1'] ==8) & (dam['aq9_1_1'] == 3)])  #휴업일 1일 이상 (베임,찔림)  비율: 8.93\n",
    "len(dam[(dam['aq6_1'] ==9) & (dam['aq9_1_1'] == 3)])  #휴업일 1일 이상 (협착,감김)  비율: 2.58\n",
    "len(dam[(dam['aq6_1'] ==10) & (dam['aq9_1_1'] == 3)])  #휴업일 1일 이상 (동물)  비율: 1.98\n",
    "len(dam[(dam['aq6_1'] ==11) & (dam['aq9_1_1'] == 3)])  #휴업일 1일 이상 (농약중독)  비율: 1.98\n",
    "len(dam[(dam['aq6_1'] ==12) & (dam['aq9_1_1'] == 3)])  #휴업일 1일 이상 (환경노출)  비율: 0.79\n",
    "len(dam[(dam['aq6_1'] ==13) & (dam['aq9_1_1'] == 3)])  #휴업일 1일 이상 (보행중교통사고)  비율: 0.40\n",
    "len(dam[(dam['aq6_1'] ==14) & (dam['aq9_1_1'] == 3)])  #휴업일 1일 이상 (기타)  비율: 0.20\n"
   ]
  },
  {
   "cell_type": "code",
   "execution_count": 31,
   "metadata": {},
   "outputs": [
    {
     "data": {
      "text/plain": [
       "9052"
      ]
     },
     "execution_count": 31,
     "metadata": {},
     "output_type": "execute_result"
    },
    {
     "data": {
      "text/plain": [
       "8718"
      ]
     },
     "execution_count": 31,
     "metadata": {},
     "output_type": "execute_result"
    },
    {
     "data": {
      "text/plain": [
       "310"
      ]
     },
     "execution_count": 31,
     "metadata": {},
     "output_type": "execute_result"
    },
    {
     "data": {
      "text/plain": [
       "194"
      ]
     },
     "execution_count": 31,
     "metadata": {},
     "output_type": "execute_result"
    },
    {
     "data": {
      "text/plain": [
       "([<matplotlib.patches.Wedge at 0x163d0093040>,\n",
       "  <matplotlib.patches.Wedge at 0x163d00d1b20>],\n",
       " [Text(-0.3235419993233722, -1.0513422728464004, '남성'),\n",
       "  Text(0.3235419993233725, 1.0513422728464004, '여성')],\n",
       " [Text(-0.17647745417638483, -0.573459421552582, '60.6%'),\n",
       "  Text(0.176477454176385, 0.5734594215525819, '39.4%')])"
      ]
     },
     "execution_count": 31,
     "metadata": {},
     "output_type": "execute_result"
    },
    {
     "data": {
      "text/plain": [
       "Text(0.5, 1.0, '농업인 손상 성별')"
      ]
     },
     "execution_count": 31,
     "metadata": {},
     "output_type": "execute_result"
    },
    {
     "data": {
      "image/png": "[encoded data removed]",
      "text/plain": [
       "<Figure size 432x288 with 1 Axes>"
      ]
     },
     "metadata": {},
     "output_type": "display_data"
    }
   ],
   "source": [
    "men_dam1=len(data[data['q9']==1])\n",
    "women_dam1=len(data[data['q9']==2])\n",
    "men_dam1\n",
    "women_dam1\n",
    "men_dam=len(dam[dam['q9']==1])\n",
    "women_dam=len(dam[dam['q9']==2])\n",
    "men_dam\n",
    "women_dam\n",
    "gg=(men_dam/men_dam1)*100\n",
    "tt=(women_dam/women_dam1)*100\n",
    "\n",
    "ratio=[gg,tt]\n",
    "labels = ['남성','여성']\n",
    "colors=['tomato','#d395d0']\n",
    "wedgeprops={'width': 0.7, 'edgecolor': 'w', 'linewidth': 5}\n",
    "\n",
    "plt.pie(ratio, labels=labels, autopct='%.1f%%', startangle=2, counterclock=False,\n",
    "        colors=colors, wedgeprops=wedgeprops,shadow=True)\n",
    "plt.title('농업인 손상 성별',fontsize=12)\n",
    "plt.show()"
   ]
  },
  {
   "cell_type": "code",
   "execution_count": 12,
   "metadata": {},
   "outputs": [
    {
     "data": {
      "text/plain": [
       "9052"
      ]
     },
     "execution_count": 12,
     "metadata": {},
     "output_type": "execute_result"
    },
    {
     "data": {
      "text/plain": [
       "8718"
      ]
     },
     "execution_count": 12,
     "metadata": {},
     "output_type": "execute_result"
    },
    {
     "data": {
      "text/plain": [
       "3.4246575342465753"
      ]
     },
     "execution_count": 12,
     "metadata": {},
     "output_type": "execute_result"
    },
    {
     "data": {
      "text/plain": [
       "2.22528102775866"
      ]
     },
     "execution_count": 12,
     "metadata": {},
     "output_type": "execute_result"
    },
    {
     "data": {
      "text/plain": [
       "<BarContainer object of 2 artists>"
      ]
     },
     "execution_count": 12,
     "metadata": {},
     "output_type": "execute_result"
    },
    {
     "data": {
      "image/png": "[encoded data removed]",
      "text/plain": [
       "<Figure size 500x300 with 1 Axes>"
      ]
     },
     "metadata": {
      "needs_background": "light"
     },
     "output_type": "display_data"
    }
   ],
   "source": [
    "men_dam1=len(data[data['q9']==1])\n",
    "women_dam1=len(data[data['q9']==2])\n",
    "men_dam1\n",
    "women_dam1\n",
    "men_dam=len(dam[dam['q9']==1])\n",
    "women_dam=len(dam[dam['q9']==2])\n",
    "\n",
    "gg=(men_dam/men_dam1)*100\n",
    "tt=(women_dam/women_dam1)*100\n",
    "gg\n",
    "tt\n",
    "import seaborn as sns\n",
    "\n",
    "Y=[round(gg,2),round(tt,2)]\n",
    "fig=plt.figure(figsize=(5,3), dpi=100)\n",
    "ax=fig.subplots()\n",
    "X=np.arange(len(Y))\n",
    "colors = sns.color_palette('hls',len(X))\n",
    "\n",
    "ax.barh(X,Y,height=0.7,color=colors,alpha=0.7)\n",
    "_=ax.text(2.3,1,Y[1],ha='left',va='center',fontsize=12)\n",
    "_=ax.text(3.5,0,Y[0],ha='left',va='center',fontsize=12)\n",
    "\n",
    "_=ax.set_xlim(0,4)\n",
    "_=ax.set_yticks([0,1])\n",
    "_=ax.set_yticklabels(['남성','여성'],fontsize=15)"
   ]
  },
  {
   "cell_type": "code",
   "execution_count": null,
   "metadata": {},
   "outputs": [],
   "source": []
  }
 ],
 "metadata": {
  "kernelspec": {
   "display_name": "Python 3 (ipykernel)",
   "language": "python",
   "name": "python3"
  },
  "language_info": {
   "codemirror_mode": {
    "name": "ipython",
    "version": 3
   },
   "file_extension": ".py",
   "mimetype": "text/x-python",
   "name": "python",
   "nbconvert_exporter": "python",
   "pygments_lexer": "ipython3",
   "version": "3.9.7"
  }
 },
 "nbformat": 4,
 "nbformat_minor": 4
}
